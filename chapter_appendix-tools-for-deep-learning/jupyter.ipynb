{
  "cells": [
    {
      "cell_type": "code",
      "source": [
        "email = input(\"Enter email id\")\n",
        "if '@' in email:\n",
        "    print(\"Valid email\")\n",
        "    password = input(\"Enter password\")\n",
        "    if email == \"souravpratyush1@gmail.com\" and password == \"Pratyush@123\":\n",
        "        print(\"Welcome\")\n",
        "    elif email == \"souravpratyush1@gmail.com\" and password != \"Pratyush@123\":\n",
        "        print(\"Incorrect password\")\n",
        "        input(\"Enter password again\")\n",
        "        if password == \"Pratyush@123\":\n",
        "            print(\"Finally correct\")\n",
        "        else:\n",
        "            print(\"Still incorrect\")\n",
        "    else:\n",
        "        print(\"Incorrect email or password\")\n",
        "else:\n",
        "    print(\"Invalid email\")"
      ],
      "metadata": {
        "colab": {
          "base_uri": "https://localhost:8080/"
        },
        "id": "u12QYu9HTjOB",
        "outputId": "18088f59-1de3-4e0d-cf90-e40e00b6504c"
      },
      "id": "u12QYu9HTjOB",
      "execution_count": 5,
      "outputs": [
        {
          "output_type": "stream",
          "name": "stdout",
          "text": [
            "Enter email iddkfslaj\n",
            "Invalid email\n"
          ]
        }
      ]
    },
    {
      "cell_type": "code",
      "source": [
        "#python doesnt uses ; and {} for loop"
      ],
      "metadata": {
        "id": "yfqBhq3bTjRE"
      },
      "id": "yfqBhq3bTjRE",
      "execution_count": null,
      "outputs": []
    },
    {
      "cell_type": "code",
      "source": [
        "name = \"abc\"\n",
        "if name == \"xyz\":\n",
        "    print('xyz') #this space is identation\n",
        "elif name == 'abc':\n",
        "    print('abc')\n",
        "else:\n",
        "    print('none')"
      ],
      "metadata": {
        "colab": {
          "base_uri": "https://localhost:8080/"
        },
        "id": "vUWTHxEgTjUI",
        "outputId": "7973366d-726d-4115-f276-6136dac4ff08"
      },
      "id": "vUWTHxEgTjUI",
      "execution_count": 7,
      "outputs": [
        {
          "output_type": "stream",
          "name": "stdout",
          "text": [
            "abc\n"
          ]
        }
      ]
    },
    {
      "cell_type": "code",
      "source": [
        "# while loop\n",
        "# for loop\n",
        "#  while condition:\n",
        "#   code"
      ],
      "metadata": {
        "id": "UzuxTTueTjXA"
      },
      "id": "UzuxTTueTjXA",
      "execution_count": null,
      "outputs": []
    },
    {
      "cell_type": "code",
      "source": [
        "number = int(input(\"Enter number\"))\n",
        "i = 1\n",
        "\n",
        "while i<11:\n",
        "  print(number,\"*\",i,\"=\",number * i)\n",
        "  i += 1"
      ],
      "metadata": {
        "colab": {
          "base_uri": "https://localhost:8080/"
        },
        "id": "VGH2oTN3TjZ7",
        "outputId": "62ae06e6-44ca-4671-b6eb-a74ed2a5ec54"
      },
      "id": "VGH2oTN3TjZ7",
      "execution_count": 9,
      "outputs": [
        {
          "output_type": "stream",
          "name": "stdout",
          "text": [
            "Enter number232\n",
            "232 * 1 = 232\n",
            "232 * 2 = 464\n",
            "232 * 3 = 696\n",
            "232 * 4 = 928\n",
            "232 * 5 = 1160\n",
            "232 * 6 = 1392\n",
            "232 * 7 = 1624\n",
            "232 * 8 = 1856\n",
            "232 * 9 = 2088\n",
            "232 * 10 = 2320\n"
          ]
        }
      ]
    },
    {
      "cell_type": "code",
      "source": [
        "import random\n"
      ],
      "metadata": {
        "id": "2U4KewjcTjcv"
      },
      "id": "2U4KewjcTjcv",
      "execution_count": 10,
      "outputs": []
    },
    {
      "cell_type": "code",
      "source": [
        "random.randint(1,100)"
      ],
      "metadata": {
        "colab": {
          "base_uri": "https://localhost:8080/"
        },
        "id": "MkZTxrgMTjf3",
        "outputId": "54795e35-a657-4b03-90c7-96a18cc67d84"
      },
      "id": "MkZTxrgMTjf3",
      "execution_count": 12,
      "outputs": [
        {
          "output_type": "execute_result",
          "data": {
            "text/plain": [
              "51"
            ]
          },
          "metadata": {},
          "execution_count": 12
        }
      ]
    },
    {
      "cell_type": "code",
      "source": [
        "jackpot = random.randint(1,100)\n",
        "guess = int(input(\"chal guess kar\"))\n",
        "counter = 1\n",
        "while guess !=jackpot :\n",
        "  if guess < jackpot:\n",
        "    print(\"guess higher\")\n",
        "  else:\n",
        "    print(\"guess lower\")\n",
        "  guess = int(input(\"chal guess kar\"))\n",
        "  counter += 1\n",
        "\n",
        "print(\"sahi Jawab\")\n",
        "print(\"you took\",counter,\"attempts\")"
      ],
      "metadata": {
        "colab": {
          "base_uri": "https://localhost:8080/"
        },
        "id": "RprW04M-Tji0",
        "outputId": "e5e445bb-8209-4d1e-bd57-c894626bfea9"
      },
      "id": "RprW04M-Tji0",
      "execution_count": 14,
      "outputs": [
        {
          "output_type": "stream",
          "name": "stdout",
          "text": [
            "chal guess kar60\n",
            "guess higher\n",
            "chal guess kar78\n",
            "guess lower\n",
            "chal guess kar67\n",
            "guess higher\n",
            "chal guess kar73\n",
            "sahi Jawab\n",
            "you took 4 attempts\n"
          ]
        }
      ]
    },
    {
      "cell_type": "code",
      "source": [],
      "metadata": {
        "id": "wDP1MAfYTjlt"
      },
      "id": "wDP1MAfYTjlt",
      "execution_count": null,
      "outputs": []
    },
    {
      "cell_type": "code",
      "source": [],
      "metadata": {
        "id": "VW05YBWwTjow"
      },
      "id": "VW05YBWwTjow",
      "execution_count": null,
      "outputs": []
    },
    {
      "cell_type": "code",
      "source": [],
      "metadata": {
        "id": "odlGaLYSTjrr"
      },
      "id": "odlGaLYSTjrr",
      "execution_count": null,
      "outputs": []
    },
    {
      "cell_type": "code",
      "source": [],
      "metadata": {
        "id": "4n5-tkfBTjuw"
      },
      "id": "4n5-tkfBTjuw",
      "execution_count": null,
      "outputs": []
    },
    {
      "cell_type": "code",
      "source": [],
      "metadata": {
        "id": "n84FMHNnTjx0"
      },
      "id": "n84FMHNnTjx0",
      "execution_count": null,
      "outputs": []
    },
    {
      "cell_type": "code",
      "source": [],
      "metadata": {
        "id": "JXr5kOv6Tj1F"
      },
      "id": "JXr5kOv6Tj1F",
      "execution_count": null,
      "outputs": []
    }
  ],
  "metadata": {
    "kernelspec": {
      "display_name": "Python 3",
      "name": "python3"
    },
    "language_info": {
      "name": "python"
    },
    "required_libs": [],
    "colab": {
      "provenance": []
    }
  },
  "nbformat": 4,
  "nbformat_minor": 5
}